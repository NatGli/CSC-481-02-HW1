{
  "cells": [
    {
      "cell_type": "markdown",
      "metadata": {
        "id": "view-in-github",
        "colab_type": "text"
      },
      "source": [
        "<a href=\"https://colab.research.google.com/github/NatGli/CSC-481-02-HW1/blob/main/PyNotes1.ipynb\" target=\"_parent\"><img src=\"https://colab.research.google.com/assets/colab-badge.svg\" alt=\"Open In Colab\"/></a>"
      ]
    },
    {
      "cell_type": "markdown",
      "metadata": {
        "id": "mG38ELDEIrgx"
      },
      "source": [
        "# Nathaniel Glidden, Python Notebook HW 1, 1/29/25\n"
      ]
    },
    {
      "cell_type": "markdown",
      "metadata": {
        "id": "uC2VgWjtIrgz"
      },
      "source": [
        "Overview: Experimentation on basic Python functionalties. Such as Arithmetic, if and else statements, and data."
      ]
    },
    {
      "cell_type": "markdown",
      "metadata": {
        "id": "Hqg_ek-mIrgz"
      },
      "source": [
        "How to make a variable + Basic Arithmetic:"
      ]
    },
    {
      "cell_type": "code",
      "execution_count": null,
      "metadata": {
        "id": "GNTT4o19Irg0",
        "outputId": "4c93d5bd-4e65-4e59-f2a0-aedbdfc22560"
      },
      "outputs": [
        {
          "name": "stdout",
          "output_type": "stream",
          "text": [
            "Sum 15\n",
            "Difference 5\n",
            "Product 50\n",
            "Division 2.0\n"
          ]
        }
      ],
      "source": [
        "a = 10\n",
        "b = 5\n",
        "sum = a+b\n",
        "difference = a-b\n",
        "product = a*b\n",
        "divide = a/b\n",
        "print(\"Sum\", sum)\n",
        "print(\"Difference\", difference)\n",
        "print(\"Product\", product)\n",
        "print(\"Division\", divide)"
      ]
    },
    {
      "cell_type": "markdown",
      "metadata": {
        "id": "ux65l6mRIrg0"
      },
      "source": [
        "Here is an f string:"
      ]
    },
    {
      "cell_type": "code",
      "execution_count": null,
      "metadata": {
        "id": "sHUJgRwSIrg0",
        "outputId": "09a3be36-46ed-4b4d-f641-aa9be1af9504"
      },
      "outputs": [
        {
          "name": "stdout",
          "output_type": "stream",
          "text": [
            "the sum of the two nubers 10, 5 is 15\n"
          ]
        }
      ],
      "source": [
        "print(f\"the sum of the two nubers {a}, {b} is {sum}\")"
      ]
    },
    {
      "cell_type": "markdown",
      "metadata": {
        "id": "EuQ4GDXuIrg0"
      },
      "source": [
        "Here is an example of integer division and Modulus:"
      ]
    },
    {
      "cell_type": "code",
      "execution_count": null,
      "metadata": {
        "id": "rWCBYk60Irg1",
        "outputId": "9144c7c8-62da-41e0-939c-561b5015a467"
      },
      "outputs": [
        {
          "name": "stdout",
          "output_type": "stream",
          "text": [
            "6\n",
            "1\n"
          ]
        }
      ],
      "source": [
        "x = 13//2\n",
        "print(x)\n",
        "y = 13%2\n",
        "print(y)"
      ]
    },
    {
      "cell_type": "markdown",
      "metadata": {
        "id": "8hPKkoTjIrg1"
      },
      "source": [
        "Boolean variables / Comparing values:"
      ]
    },
    {
      "cell_type": "code",
      "execution_count": null,
      "metadata": {
        "id": "pWLcdS3aIrg1",
        "outputId": "f783a026-24a0-4424-b799-9d481d670142"
      },
      "outputs": [
        {
          "name": "stdout",
          "output_type": "stream",
          "text": [
            "is x greater than y True\n",
            "is x equal to y False\n",
            "is x not equal to y True\n"
          ]
        }
      ],
      "source": [
        "x = 10\n",
        "y = 5\n",
        "is_greater = x>y\n",
        "is_equal = x==y\n",
        "is_not_equal = x!=y\n",
        "print(\"is x greater than y\", is_greater)\n",
        "print(\"is x equal to y\", is_equal)\n",
        "print(\"is x not equal to y\", is_not_equal)\n"
      ]
    },
    {
      "cell_type": "code",
      "execution_count": null,
      "metadata": {
        "id": "rI24-FteIrg1",
        "outputId": "e0da0232-8aa2-49a5-faa0-dd1b850c7aaa"
      },
      "outputs": [
        {
          "name": "stdout",
          "output_type": "stream",
          "text": [
            "Nathan's age is 20. He is a professor is False\n"
          ]
        }
      ],
      "source": [
        "name = \"Nathan\"\n",
        "age = 20\n",
        "is_professor = False\n",
        "print(f\"{name}'s age is {age}. He is a professor is {is_professor}\")"
      ]
    },
    {
      "cell_type": "markdown",
      "metadata": {
        "id": "8NPgMZ4IIrg1"
      },
      "source": [
        "Here is how to make a function in Python"
      ]
    },
    {
      "cell_type": "code",
      "execution_count": null,
      "metadata": {
        "id": "SDxrXAhGIrg1",
        "outputId": "51a63b99-a83f-41ad-89f9-a3e08e126dd9"
      },
      "outputs": [
        {
          "data": {
            "text/plain": [
              "'Wassup,Nathan!'"
            ]
          },
          "execution_count": 51,
          "metadata": {},
          "output_type": "execute_result"
        }
      ],
      "source": [
        "def greet(name):\n",
        "    return \"Wassup,\" + name + \"!\"\n",
        "\n",
        "my_name = input(\"Enter your name: \")\n",
        "greet(my_name)"
      ]
    },
    {
      "cell_type": "code",
      "execution_count": null,
      "metadata": {
        "id": "A-acZULNIrg2",
        "outputId": "0d36cbe3-1a1b-44e2-bd35-72cd2fecc031"
      },
      "outputs": [
        {
          "name": "stdout",
          "output_type": "stream",
          "text": [
            "The result of the addition for 10,10 is 20\n"
          ]
        }
      ],
      "source": [
        "def add_numbers(a,b):\n",
        "    return a+b\n",
        "a = eval(input(\"Enter number\"))\n",
        "b = eval(input(\"Enter number\"))\n",
        "add = add_numbers(a,b)\n",
        "print(f\"The result of the addition for {a},{b} is {add}\")"
      ]
    },
    {
      "cell_type": "markdown",
      "metadata": {
        "id": "BDdxB5tHIrg2"
      },
      "source": [
        "Lets work with strings now."
      ]
    },
    {
      "cell_type": "code",
      "execution_count": null,
      "metadata": {
        "id": "6KmRBLIaIrg2",
        "outputId": "6294ac7b-4090-4308-a2d5-62b05bc36895"
      },
      "outputs": [
        {
          "name": "stdout",
          "output_type": "stream",
          "text": [
            "Original message:  Hello, World\n",
            "The length is:  12\n",
            "Uppercase:  HELLO, WORLD\n",
            "Lowercase:  hello, world\n",
            "Part of the message is:  World\n"
          ]
        }
      ],
      "source": [
        "mess = \"Hello, World\"\n",
        "length = len(mess)\n",
        "uppercase = mess.upper()\n",
        "lowercase = mess.lower()\n",
        "substring = mess[7:12]\n",
        "print(\"Original message: \", mess)\n",
        "print(\"The length is: \", length)\n",
        "print(\"Uppercase: \", uppercase)\n",
        "print(\"Lowercase: \", lowercase)\n",
        "print(\"Part of the message is: \", substring)"
      ]
    },
    {
      "cell_type": "markdown",
      "metadata": {
        "id": "DogdCDHhIrg2"
      },
      "source": [
        "input with characters."
      ]
    },
    {
      "cell_type": "code",
      "execution_count": null,
      "metadata": {
        "id": "TBk7NKCVIrg2",
        "outputId": "3074dde2-7d84-486a-a346-2d7f297a35b2"
      },
      "outputs": [
        {
          "name": "stdout",
          "output_type": "stream",
          "text": [
            "Glidden, Nathan\n"
          ]
        }
      ],
      "source": [
        "Last = input(\"Enter the last name:\")\n",
        "First = input(\"Enter the first name: \")\n",
        "print(f\"{Last}, {First}\")"
      ]
    },
    {
      "cell_type": "markdown",
      "metadata": {
        "id": "CMMn25pVIrg2"
      },
      "source": [
        "input with #'s"
      ]
    },
    {
      "cell_type": "code",
      "execution_count": null,
      "metadata": {
        "id": "ikLuiJZWIrg2",
        "outputId": "e93f6c62-4381-4883-ef82-4441c1f1b043"
      },
      "outputs": [
        {
          "name": "stdout",
          "output_type": "stream",
          "text": [
            "You will be 21 years old next year.\n"
          ]
        }
      ],
      "source": [
        "age = int(input(\"Enter your age: \"))\n",
        "print(\"You will be\", age + 1, \"years old next year.\")"
      ]
    },
    {
      "cell_type": "markdown",
      "metadata": {
        "id": "kIESOYPHIrg3"
      },
      "source": [
        "String Concatenation:"
      ]
    },
    {
      "cell_type": "code",
      "execution_count": null,
      "metadata": {
        "id": "JQKd3yawIrg3",
        "outputId": "73eb4fbc-9aec-40a7-aff7-e9b4b7926943"
      },
      "outputs": [
        {
          "name": "stdout",
          "output_type": "stream",
          "text": [
            "You are in:  New haven,United States\n"
          ]
        }
      ],
      "source": [
        "city = input(\"Enter your city: \")\n",
        "country = input(\"Enter your country\")\n",
        "location = city + \",\" + country\n",
        "print(\"You are in: \", location)"
      ]
    },
    {
      "cell_type": "markdown",
      "metadata": {
        "id": "0eJHStpVIrg3"
      },
      "source": [
        "Here is an example of split."
      ]
    },
    {
      "cell_type": "code",
      "execution_count": null,
      "metadata": {
        "id": "rtOE40UcIrg3",
        "outputId": "cd0be724-d4ee-475f-aa05-c88c03d57142"
      },
      "outputs": [
        {
          "name": "stdout",
          "output_type": "stream",
          "text": [
            "my name is Nathan and my age is 20\n"
          ]
        }
      ],
      "source": [
        "name, age = input(\"Enter your name and age seperated by space: \").split()\n",
        "print(f\"my name is {name} and my age is {age}\")"
      ]
    }
  ],
  "metadata": {
    "kernelspec": {
      "display_name": "base",
      "language": "python",
      "name": "python3"
    },
    "language_info": {
      "codemirror_mode": {
        "name": "ipython",
        "version": 3
      },
      "file_extension": ".py",
      "mimetype": "text/x-python",
      "name": "python",
      "nbconvert_exporter": "python",
      "pygments_lexer": "ipython3",
      "version": "3.11.7"
    },
    "colab": {
      "provenance": [],
      "include_colab_link": true
    }
  },
  "nbformat": 4,
  "nbformat_minor": 0
}