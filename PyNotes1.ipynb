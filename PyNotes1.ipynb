{
 "cells": [
  {
   "cell_type": "markdown",
   "metadata": {},
   "source": [
    "# Nathaniel Glidden, Python Notebook HW 1, 1/29/25\n"
   ]
  },
  {
   "cell_type": "markdown",
   "metadata": {},
   "source": [
    "Overview: Experimentation on basic Python functionalties. Such as Arithmetic, if and else statements, and data."
   ]
  },
  {
   "cell_type": "markdown",
   "metadata": {},
   "source": [
    "How to make a variable + Basic Arithmetic:"
   ]
  },
  {
   "cell_type": "code",
   "execution_count": 46,
   "metadata": {},
   "outputs": [
    {
     "name": "stdout",
     "output_type": "stream",
     "text": [
      "Sum 15\n",
      "Difference 5\n",
      "Product 50\n",
      "Division 2.0\n"
     ]
    }
   ],
   "source": [
    "a = 10\n",
    "b = 5\n",
    "sum = a+b\n",
    "difference = a-b\n",
    "product = a*b\n",
    "divide = a/b\n",
    "print(\"Sum\", sum)\n",
    "print(\"Difference\", difference)\n",
    "print(\"Product\", product)\n",
    "print(\"Division\", divide)"
   ]
  },
  {
   "cell_type": "markdown",
   "metadata": {},
   "source": [
    "Here is an f string:"
   ]
  },
  {
   "cell_type": "code",
   "execution_count": 47,
   "metadata": {},
   "outputs": [
    {
     "name": "stdout",
     "output_type": "stream",
     "text": [
      "the sum of the two nubers 10, 5 is 15\n"
     ]
    }
   ],
   "source": [
    "print(f\"the sum of the two nubers {a}, {b} is {sum}\")"
   ]
  },
  {
   "cell_type": "markdown",
   "metadata": {},
   "source": [
    "Here is an example of integer division and Modulus:"
   ]
  },
  {
   "cell_type": "code",
   "execution_count": 48,
   "metadata": {},
   "outputs": [
    {
     "name": "stdout",
     "output_type": "stream",
     "text": [
      "6\n",
      "1\n"
     ]
    }
   ],
   "source": [
    "x = 13//2\n",
    "print(x)\n",
    "y = 13%2\n",
    "print(y)"
   ]
  },
  {
   "cell_type": "markdown",
   "metadata": {},
   "source": [
    "Boolean variables / Comparing values:"
   ]
  },
  {
   "cell_type": "code",
   "execution_count": 49,
   "metadata": {},
   "outputs": [
    {
     "name": "stdout",
     "output_type": "stream",
     "text": [
      "is x greater than y True\n",
      "is x equal to y False\n",
      "is x not equal to y True\n"
     ]
    }
   ],
   "source": [
    "x = 10\n",
    "y = 5\n",
    "is_greater = x>y\n",
    "is_equal = x==y\n",
    "is_not_equal = x!=y\n",
    "print(\"is x greater than y\", is_greater)\n",
    "print(\"is x equal to y\", is_equal)\n",
    "print(\"is x not equal to y\", is_not_equal)\n"
   ]
  },
  {
   "cell_type": "code",
   "execution_count": 50,
   "metadata": {},
   "outputs": [
    {
     "name": "stdout",
     "output_type": "stream",
     "text": [
      "Nathan's age is 20. He is a professor is False\n"
     ]
    }
   ],
   "source": [
    "name = \"Nathan\"\n",
    "age = 20\n",
    "is_professor = False\n",
    "print(f\"{name}'s age is {age}. He is a professor is {is_professor}\")"
   ]
  },
  {
   "cell_type": "markdown",
   "metadata": {},
   "source": [
    "Here is how to make a function in Python"
   ]
  },
  {
   "cell_type": "code",
   "execution_count": 51,
   "metadata": {},
   "outputs": [
    {
     "data": {
      "text/plain": [
       "'Wassup,Nathan!'"
      ]
     },
     "execution_count": 51,
     "metadata": {},
     "output_type": "execute_result"
    }
   ],
   "source": [
    "def greet(name):\n",
    "    return \"Wassup,\" + name + \"!\"\n",
    "\n",
    "my_name = input(\"Enter your name: \")\n",
    "greet(my_name)"
   ]
  },
  {
   "cell_type": "code",
   "execution_count": 52,
   "metadata": {},
   "outputs": [
    {
     "name": "stdout",
     "output_type": "stream",
     "text": [
      "The result of the addition for 10,10 is 20\n"
     ]
    }
   ],
   "source": [
    "def add_numbers(a,b):\n",
    "    return a+b\n",
    "a = eval(input(\"Enter number\"))\n",
    "b = eval(input(\"Enter number\"))\n",
    "add = add_numbers(a,b)\n",
    "print(f\"The result of the addition for {a},{b} is {add}\")"
   ]
  },
  {
   "cell_type": "markdown",
   "metadata": {},
   "source": [
    "Lets work with strings now."
   ]
  },
  {
   "cell_type": "code",
   "execution_count": 53,
   "metadata": {},
   "outputs": [
    {
     "name": "stdout",
     "output_type": "stream",
     "text": [
      "Original message:  Hello, World\n",
      "The length is:  12\n",
      "Uppercase:  HELLO, WORLD\n",
      "Lowercase:  hello, world\n",
      "Part of the message is:  World\n"
     ]
    }
   ],
   "source": [
    "mess = \"Hello, World\"\n",
    "length = len(mess)\n",
    "uppercase = mess.upper()\n",
    "lowercase = mess.lower()\n",
    "substring = mess[7:12]\n",
    "print(\"Original message: \", mess)\n",
    "print(\"The length is: \", length)\n",
    "print(\"Uppercase: \", uppercase)\n",
    "print(\"Lowercase: \", lowercase)\n",
    "print(\"Part of the message is: \", substring)"
   ]
  },
  {
   "cell_type": "markdown",
   "metadata": {},
   "source": [
    "input with characters."
   ]
  },
  {
   "cell_type": "code",
   "execution_count": 54,
   "metadata": {},
   "outputs": [
    {
     "name": "stdout",
     "output_type": "stream",
     "text": [
      "Glidden, Nathan\n"
     ]
    }
   ],
   "source": [
    "Last = input(\"Enter the last name:\")\n",
    "First = input(\"Enter the first name: \")\n",
    "print(f\"{Last}, {First}\")"
   ]
  },
  {
   "cell_type": "markdown",
   "metadata": {},
   "source": [
    "input with #'s"
   ]
  },
  {
   "cell_type": "code",
   "execution_count": 55,
   "metadata": {},
   "outputs": [
    {
     "name": "stdout",
     "output_type": "stream",
     "text": [
      "You will be 21 years old next year.\n"
     ]
    }
   ],
   "source": [
    "age = int(input(\"Enter your age: \"))\n",
    "print(\"You will be\", age + 1, \"years old next year.\")"
   ]
  },
  {
   "cell_type": "markdown",
   "metadata": {},
   "source": [
    "String Concatenation: "
   ]
  },
  {
   "cell_type": "code",
   "execution_count": 56,
   "metadata": {},
   "outputs": [
    {
     "name": "stdout",
     "output_type": "stream",
     "text": [
      "You are in:  New haven,United States\n"
     ]
    }
   ],
   "source": [
    "city = input(\"Enter your city: \")\n",
    "country = input(\"Enter your country\")\n",
    "location = city + \",\" + country\n",
    "print(\"You are in: \", location)"
   ]
  },
  {
   "cell_type": "markdown",
   "metadata": {},
   "source": [
    "Here is an example of split."
   ]
  },
  {
   "cell_type": "code",
   "execution_count": 57,
   "metadata": {},
   "outputs": [
    {
     "name": "stdout",
     "output_type": "stream",
     "text": [
      "my name is Nathan and my age is 20\n"
     ]
    }
   ],
   "source": [
    "name, age = input(\"Enter your name and age seperated by space: \").split()\n",
    "print(f\"my name is {name} and my age is {age}\")"
   ]
  }
 ],
 "metadata": {
  "kernelspec": {
   "display_name": "base",
   "language": "python",
   "name": "python3"
  },
  "language_info": {
   "codemirror_mode": {
    "name": "ipython",
    "version": 3
   },
   "file_extension": ".py",
   "mimetype": "text/x-python",
   "name": "python",
   "nbconvert_exporter": "python",
   "pygments_lexer": "ipython3",
   "version": "3.11.7"
  }
 },
 "nbformat": 4,
 "nbformat_minor": 2
}
